{
 "cells": [
  {
   "attachments": {},
   "cell_type": "markdown",
   "metadata": {},
   "source": [
    "# Variable"
   ]
  },
  {
   "cell_type": "code",
   "execution_count": 2,
   "metadata": {},
   "outputs": [
    {
     "name": "stdout",
     "output_type": "stream",
     "text": [
      "a\n",
      "r\n"
     ]
    }
   ],
   "source": [
    "palabra = \"calor\"\n",
    "segunda_letra = \"a\"\n",
    "quinta_letra = \"r\"\n",
    "segunda_letra = palabra[1]\n",
    "print(segunda_letra)\n",
    "quinta_letra = palabra[4]\n",
    "print(quinta_letra)"
   ]
  },
  {
   "cell_type": "code",
   "execution_count": 7,
   "metadata": {},
   "outputs": [
    {
     "name": "stdout",
     "output_type": "stream",
     "text": [
      "La palabra ingresada es silla\n",
      "la cantidad de participantes es 27\n",
      "('la cantidad de pinguinos hoy es ', 27)\n",
      "la cantidad de pinguinos hoy es 27\n"
     ]
    }
   ],
   "source": [
    "palabra = \"silla\"\n",
    "cantidad_de_participantes = 27\n",
    "\n",
    "mensaje1 = \"La palabra ingresada es \" + palabra\n",
    "print(mensaje1)\n",
    "\n",
    "mensaje2 = f\"la cantidad de participantes es {cantidad_de_participantes}\"\n",
    "print(mensaje2)\n",
    "# esto no es una concatenacion\n",
    "mensaje3 = \"la cantidad de pinguinos hoy es \",cantidad_de_participantes\n",
    "print(mensaje3)\n",
    "\n",
    "mensaje3 = \"la cantidad de pinguinos hoy es \"+ str(cantidad_de_participantes)\n",
    "print(mensaje3)\n"
   ]
  },
  {
   "attachments": {},
   "cell_type": "markdown",
   "metadata": {},
   "source": [
    "# Operadores logicos\n",
    "- == igualdad\n",
    "- != distinto de \n",
    "- mayor que >\n",
    "- menor que <\n",
    "- mayor o igual que >=\n",
    "- menor o igual que <=\n",
    "- and 'y'\n",
    "- or 'o'\n"
   ]
  },
  {
   "cell_type": "code",
   "execution_count": 16,
   "metadata": {},
   "outputs": [
    {
     "name": "stdout",
     "output_type": "stream",
     "text": [
      "False\n",
      "False\n",
      "la letra no esta en la palabra\n"
     ]
    }
   ],
   "source": [
    "letra1 = 'a'\n",
    "letra2='e'\n",
    "palabra = \"jorge\"\n",
    "#letras son iguales\n",
    "letras_son_iguales = letra1 == letra2\n",
    "print(letras_son_iguales)\n",
    "\n",
    "#letra esta en la palabra\n",
    "letra_existe_en_palabra = letra1 in palabra\n",
    "print(letra_existe_en_palabra)\n",
    "\n",
    "if letra_existe_en_palabra:\n",
    "    print(\"la letra existe en la palabra\")\n",
    "else:\n",
    "    print(\"la letra no esta en la palabra\")"
   ]
  },
  {
   "attachments": {},
   "cell_type": "markdown",
   "metadata": {},
   "source": [
    "# repaso de funciones"
   ]
  },
  {
   "cell_type": "code",
   "execution_count": 20,
   "metadata": {},
   "outputs": [
    {
     "name": "stdout",
     "output_type": "stream",
     "text": [
      "hola pinguino\n",
      "hola pinguino\n"
     ]
    }
   ],
   "source": [
    "def imprimir_saludo():\n",
    "    print(\"hola pinguino\")\n",
    "\n",
    "imprimir_saludo()\n",
    "imprimir_saludo()\n"
   ]
  },
  {
   "attachments": {},
   "cell_type": "markdown",
   "metadata": {},
   "source": [
    "## Challenge 1 🤺 - 15m\n",
    "\n",
    "Crear una función que imprima la variable palabra."
   ]
  },
  {
   "attachments": {},
   "cell_type": "markdown",
   "metadata": {},
   "source": [
    "# Solucion de Maga 🌞"
   ]
  },
  {
   "cell_type": "code",
   "execution_count": 21,
   "metadata": {},
   "outputs": [
    {
     "name": "stdout",
     "output_type": "stream",
     "text": [
      "pinguchito\n",
      "luna\n"
     ]
    }
   ],
   "source": [
    "def pinguino(): #llamo a mi funcion pinguino.\n",
    "   # ordeno a mi funcion que imprima mi variable sol.\n",
    "    print(sol) \n",
    "# indico que pongan la palabra.\n",
    "sol=input(\"Ingrese palabra\") \n",
    "pinguino()\n",
    "sol=input(\"Ingrese palabra\")\n",
    "pinguino()"
   ]
  },
  {
   "attachments": {},
   "cell_type": "markdown",
   "metadata": {},
   "source": [
    "# Solucion de Kento 🍜"
   ]
  },
  {
   "cell_type": "code",
   "execution_count": 23,
   "metadata": {},
   "outputs": [
    {
     "name": "stdout",
     "output_type": "stream",
     "text": [
      "palabra\n"
     ]
    }
   ],
   "source": [
    "palabra = \"palabra\"\n",
    "\n",
    "def imprimir_palabra():\n",
    "    print(palabra)\n",
    "\n",
    "imprimir_palabra()"
   ]
  },
  {
   "attachments": {},
   "cell_type": "markdown",
   "metadata": {},
   "source": [
    "# Repaso: parametros y argumentos en funciones"
   ]
  },
  {
   "cell_type": "code",
   "execution_count": 27,
   "metadata": {},
   "outputs": [
    {
     "name": "stdout",
     "output_type": "stream",
     "text": [
      "30\n",
      "57\n"
     ]
    }
   ],
   "source": [
    "def sumar_numeros(numero1,numero2):\n",
    "    sumar= numero1 + numero2\n",
    "    print(sumar)\n",
    "\n",
    "sumar_numeros(10,20)\n",
    "\n",
    "numero1= int(input(\"ingrese el primer numero\")) \n",
    "numero2 = int(input(\"ingrese el segundo numero\"))\n",
    "sumar_numeros(numero1,numero2)\n"
   ]
  },
  {
   "attachments": {},
   "cell_type": "markdown",
   "metadata": {},
   "source": [
    "# Return - retornar "
   ]
  },
  {
   "cell_type": "code",
   "execution_count": 34,
   "metadata": {},
   "outputs": [
    {
     "name": "stdout",
     "output_type": "stream",
     "text": [
      "2320000\n",
      "152320000\n",
      "150130000\n"
     ]
    }
   ],
   "source": [
    "def cuanto_dinero_queda(presupuesto, gastos_del_mes):\n",
    "    #calculando el dinero que me queda\n",
    "    dinero_queda = presupuesto - gastos_del_mes\n",
    "    # print(dinero_queda)\n",
    "    #retornando ese valor por cada vez que llame la funcion\n",
    "    return dinero_queda\n",
    "\n",
    "\n",
    "\n",
    "\n",
    "# yo gane telebingo que purete\n",
    "dinero_telebingo = 150000000\n",
    "\n",
    "#guardar en una variable lo que retorna mi funcion con return\n",
    "dinero_restante = cuanto_dinero_queda(3000000,680000)\n",
    "print(dinero_restante)\n",
    "dinero_total = dinero_telebingo + dinero_restante\n",
    "print(dinero_total)\n",
    "\n",
    "dinero_restante2 = cuanto_dinero_queda(150000,20000)\n",
    "dinero_total2 = dinero_telebingo + dinero_restante2\n",
    "print(dinero_total2)"
   ]
  },
  {
   "attachments": {},
   "cell_type": "markdown",
   "metadata": {},
   "source": [
    "## Challenge 2 🤺 - 15 min\n",
    "\n",
    "Crear una función que reciba dos letras (parámetros) y que verifique si son iguales:\n",
    "\n",
    "1. Si son iguales, retornar True.\n",
    "\n",
    "2. De lo contrario, retornar False.\n"
   ]
  },
  {
   "attachments": {},
   "cell_type": "markdown",
   "metadata": {},
   "source": [
    "# solucion de Marcelo 🌵"
   ]
  },
  {
   "cell_type": "code",
   "execution_count": 35,
   "metadata": {},
   "outputs": [
    {
     "name": "stdout",
     "output_type": "stream",
     "text": [
      "La primera letra es : a , y la segunda letra es : b\n",
      "Las letras no coinciden\n"
     ]
    },
    {
     "data": {
      "text/plain": [
       "False"
      ]
     },
     "execution_count": 35,
     "metadata": {},
     "output_type": "execute_result"
    }
   ],
   "source": [
    "def letras():\n",
    "    letra1 =input('Inserte la letra 1')\n",
    "    letra2= input('Inserte la letra 2')\n",
    "    print(f\"La primera letra es : {letra1} , y la segunda letra es : {letra2}\")\n",
    "    if letra1 == letra2:\n",
    "        print('Las letras son iguales')\n",
    "        return True \n",
    "    else:\n",
    "        print('Las letras no coinciden')\n",
    "        return False\n",
    "\n",
    "letras()"
   ]
  },
  {
   "attachments": {},
   "cell_type": "markdown",
   "metadata": {},
   "source": [
    "# solucion de Flor 🌸"
   ]
  },
  {
   "cell_type": "code",
   "execution_count": 36,
   "metadata": {},
   "outputs": [
    {
     "name": "stdout",
     "output_type": "stream",
     "text": [
      "las letras son iguales, que listo :)\n"
     ]
    },
    {
     "data": {
      "text/plain": [
       "True"
      ]
     },
     "execution_count": 36,
     "metadata": {},
     "output_type": "execute_result"
    }
   ],
   "source": [
    "letra1 = (input(\"ingrese una letra\"))\n",
    "letra2 = (input(\"ingrese una segunda letra\"))\n",
    "\n",
    "def comparar_letras (letra1, letra2):\n",
    "    if letra1 == letra2:\n",
    "        print (\"las letras son iguales, que listo :)\")\n",
    "        return True\n",
    "    else:\n",
    "        print (\"no hay similitud entre las letras, intenta de vuelta\")\n",
    "        return False\n",
    "\n",
    "comparar_letras (letra1,letra2)"
   ]
  },
  {
   "attachments": {},
   "cell_type": "markdown",
   "metadata": {},
   "source": [
    "# Solucion de Olaf 😺"
   ]
  },
  {
   "cell_type": "code",
   "execution_count": 39,
   "metadata": {},
   "outputs": [
    {
     "name": "stdout",
     "output_type": "stream",
     "text": [
      "True\n"
     ]
    }
   ],
   "source": [
    "def comparar_letras(letra_1, letra_2):\n",
    "    return letra_1 == letra_2\n",
    "\n",
    "verificacion = comparar_letras(\"o\", \"o\")\n",
    "print(verificacion)"
   ]
  },
  {
   "cell_type": "code",
   "execution_count": 44,
   "metadata": {},
   "outputs": [
    {
     "name": "stdout",
     "output_type": "stream",
     "text": [
      "las palabras son iguales\n"
     ]
    }
   ],
   "source": [
    "def verificar_si_las_palabras_coinciden(palabra_a_encontrar, palabra_ingresada):\n",
    "    palabras_son_iguales = palabra_a_encontrar ==palabra_ingresada\n",
    "    if palabras_son_iguales:\n",
    "        return \"las palabras son iguales\"\n",
    "    else:\n",
    "        return \"las palabras no son iguales\"\n",
    "    \n",
    "palabra_magica=\"perro\"\n",
    "palabra_a_comparar = input(\"ingresa tu palabra que queres comparar con la correcta\")\n",
    "\n",
    "palabras_coinciden = verificar_si_las_palabras_coinciden(palabra_magica,palabra_a_comparar)\n",
    "\n",
    "print(palabras_coinciden)\n"
   ]
  },
  {
   "attachments": {},
   "cell_type": "markdown",
   "metadata": {},
   "source": [
    "## Challenge 3 🤺 - 15m\n",
    "\n",
    "Crear una función que reciba dos parámetros (una palabra y un número), y que devuelva `True` si el número es igual a la cantidad de letras de la palabra. En caso contrario, que devuelva `False`.\n",
    "\n",
    "Pista: `cantidad de letras de una palabra en python se puede obtener con len()`"
   ]
  },
  {
   "attachments": {},
   "cell_type": "markdown",
   "metadata": {},
   "source": [
    "# Solucion de Miguel 🐯"
   ]
  },
  {
   "cell_type": "code",
   "execution_count": 46,
   "metadata": {},
   "outputs": [
    {
     "data": {
      "text/plain": [
       "True"
      ]
     },
     "execution_count": 46,
     "metadata": {},
     "output_type": "execute_result"
    }
   ],
   "source": [
    "def conpacion_palabra (p, n):\n",
    "    if len(p) == n:\n",
    "        return True\n",
    "    else:\n",
    "        return False\n",
    "\n",
    "palabra = input(\"ingrese una palabra\")\n",
    "numero_letra = int (input (\"ingrese una cantidad\"))\n",
    "\n",
    "conpacion_palabra(palabra, numero_letra)"
   ]
  },
  {
   "attachments": {},
   "cell_type": "markdown",
   "metadata": {},
   "source": [
    "# Solucion de Joaquin 🐸\n"
   ]
  },
  {
   "cell_type": "code",
   "execution_count": 47,
   "metadata": {},
   "outputs": [
    {
     "name": "stdout",
     "output_type": "stream",
     "text": [
      " le función es True\n"
     ]
    }
   ],
   "source": [
    "#genero una funcion para calcular el numero de letras de una palabra y valido si es igual o no al numero de números.\n",
    "def validar_de_palabra(numero,texto):\n",
    "    total_numero = len(texto) #len ya convierte a numero sin necesidad de decir que formato es el dato.\n",
    "    if total_numero == numero:\n",
    "        return True\n",
    "    else:\n",
    "        return False\n",
    "\n",
    "#defino una variable al resultado de la funcion\n",
    "resultado = validar_de_palabra(4,\"hoho\")\n",
    "\n",
    "print(f\" le función es {resultado}\")"
   ]
  },
  {
   "attachments": {},
   "cell_type": "markdown",
   "metadata": {},
   "source": [
    "## Challenge 🤺 - 15 min\n",
    "\n",
    "Crear función que revise si una palabra contiene una letra. En caso de que la contenga, retornar la letra entre corchetes `[]`. De lo contrario, retornar solo la letra."
   ]
  },
  {
   "attachments": {},
   "cell_type": "markdown",
   "metadata": {},
   "source": [
    "# Solucion de Celso 👺"
   ]
  },
  {
   "cell_type": "code",
   "execution_count": 48,
   "metadata": {},
   "outputs": [
    {
     "name": "stdout",
     "output_type": "stream",
     "text": [
      "[r]\n"
     ]
    }
   ],
   "source": [
    "#Definimos la funcion que recibira los parametros  \"letra\" y \"palabra\"\n",
    "def revisar_letra(palabra, letra):\n",
    "    #comparamos si la letra esta en palabra\n",
    "    if letra in palabra:\n",
    "        #Retorna \"letra\" entre corchetes (Como un String).\n",
    "        return (f\"[{letra}]\")\n",
    "    else:\n",
    "        #Retorna \"letra\" sin corchetes. (Como un String).\n",
    "        return (f\"{letra}\")\n",
    "\n",
    "#Solicitamos al usuario que ingrese la palabra y la letra.\n",
    "palabra = input(\"Ingrese una palabra: \")\n",
    "letra = input(\"Ingrese una letra: \")\n",
    "\n",
    "#Llamo la funcion y guardo el return en una variable.\n",
    "resultado_comparacion = revisar_letra(palabra, letra)\n",
    "\n",
    "#imprimimos la variable con el retorno guardado.\n",
    "print(resultado_comparacion)"
   ]
  },
  {
   "attachments": {},
   "cell_type": "markdown",
   "metadata": {},
   "source": [
    "# Funciones built-in: list()"
   ]
  },
  {
   "cell_type": "code",
   "execution_count": 55,
   "metadata": {},
   "outputs": [
    {
     "name": "stdout",
     "output_type": "stream",
     "text": [
      "['h', 'o', 'j', 'a', 's']\n"
     ]
    }
   ],
   "source": [
    "palabra_a_encontrar = \"hojas\"\n",
    "# con list() convertimos una palabra (string) a lista \n",
    "lista_palabra_a_encontrar= list(palabra_a_encontrar)\n",
    "print(lista_palabra_a_encontrar)\n",
    "\n"
   ]
  },
  {
   "attachments": {},
   "cell_type": "markdown",
   "metadata": {},
   "source": [
    "## Challenge 5 🤺 - 15m\n",
    "\n",
    "Pedir al usuario que ingrese 1 palabra, luego convertir esa palabra a una lista con sus caracteres con `list()`. Agregar esa lista de caracteres a una lista llamada `palabras_ingresadas`. Repetir el proceso 3 veces. Cada vez que se agregue una lista de caracteres, imprimir la lista `palabras_ingresadas`.\n",
    "\n",
    "Ejemplo del resultado esperado:\n",
    "\n",
    "`[['c', 'i', 'e', 'l', 'o']]` # Al ingresar la primera palabra\n",
    "\n",
    "`[['c', 'i', 'e', 'l', 'o'], ['c', 'a', 'l', 'o', 'r']]` # Al ingresar la segunda palabra\n",
    "\n",
    "`[['c', 'i', 'e', 'l', 'o'], ['c', 'a', 'l', 'o', 'r'], ['n', 'u', 'b', 'e', 's']]` # Al ingresar la tercera palabra\n"
   ]
  },
  {
   "attachments": {},
   "cell_type": "markdown",
   "metadata": {},
   "source": [
    "# Solucion de Andi 🌕"
   ]
  },
  {
   "cell_type": "code",
   "execution_count": 56,
   "metadata": {},
   "outputs": [
    {
     "name": "stdout",
     "output_type": "stream",
     "text": [
      "[['m', 'i', 'c', 'h', 'i']]\n",
      "[['m', 'i', 'c', 'h', 'i'], ['j', 'a', 'g', 'u', 'a']]\n",
      "[['m', 'i', 'c', 'h', 'i'], ['j', 'a', 'g', 'u', 'a'], ['k', 'a', 'v', 'a', 'j', 'u']]\n"
     ]
    }
   ],
   "source": [
    "palabras_ingresadas = []\n",
    "for index in range (3):\n",
    "    palabra_ingresada = input(\"Ingrese la palabra...\")\n",
    "    lista_de_palabra_ingresada = list(palabra_ingresada)\n",
    "    palabras_ingresadas.append(lista_de_palabra_ingresada)\n",
    "    print(palabras_ingresadas)"
   ]
  },
  {
   "attachments": {},
   "cell_type": "markdown",
   "metadata": {},
   "source": [
    "# Solucion de Bruno 🤷"
   ]
  },
  {
   "cell_type": "code",
   "execution_count": 57,
   "metadata": {},
   "outputs": [
    {
     "name": "stdout",
     "output_type": "stream",
     "text": [
      "Lista = ['h', 'o', 'l', 'a']\n",
      "Lista = ['q', 'u', 'e']\n",
      "Lista = ['t', 'a', 'l']\n"
     ]
    }
   ],
   "source": [
    "def impresion(palabra):\n",
    "    palabras_ingresadas = list(palabra)\n",
    "    print(f\"Lista = {palabras_ingresadas}\")\n",
    "\n",
    "palabra = input(\"Ingresa tu palabra\")\n",
    "impresion(palabra)\n",
    "palabra = input(\"Ingresa tu palabra\")\n",
    "impresion(palabra)\n",
    "palabra = input(\"Ingresa tu palabra\")\n",
    "impresion(palabra)"
   ]
  },
  {
   "attachments": {},
   "cell_type": "markdown",
   "metadata": {},
   "source": [
    "# Funcion verificadora"
   ]
  },
  {
   "attachments": {},
   "cell_type": "markdown",
   "metadata": {},
   "source": [
    "- Creamos una lista vacia 'letras verificadas' para las letras de la palabra luego de ser verificadas\n",
    "- Si la letras existe en la palabra a encontrar y sus posiciones coinciden: encerrar en corchetes '[]' y agregar al resultado\n",
    "- Si las letras existen en la palabra a encontrar pero sus posiciones no coinciden: encerrar en parentesis '()' y agregamos al resultado\n",
    "- Si no se cumple ninguna de estas anteriores, agregar la letra a la lista vacia sin modificaciones (letra sola)\n",
    "- Retornar el resultado\n",
    " "
   ]
  },
  {
   "cell_type": "code",
   "execution_count": 58,
   "metadata": {},
   "outputs": [],
   "source": [
    "def obtener_fila_verificada (palabra_a_encontrar, palabra_ingresada):\n",
    "    cantidad_de_letras_de_la_palabra_a_encontrar = 5\n",
    "    #crear una lista vacia para almacenar el resultado de una linea\n",
    "    letras_verificas = []\n",
    "    #iterar por cada letra de la palabra ingresada\n",
    "    for posicion in range(cantidad_de_letras_de_la_palabra_a_encontrar):\n",
    "        las_letras_son_iguales = palabra_a_encontrar[posicion] == palabra_ingresada[posicion]\n",
    "\n",
    "        la_letra_existe_en_la_palabra = palabra_ingresada[posicion] in palabra_a_encontrar\n",
    "\n",
    "        if las_letras_son_iguales:\n",
    "            # guardar las letras que estan en la palabra a encontrar y coinciden en la posicion, dentro de corchetes\n",
    "            letras_verificas.append(\"[\"+ palabra_ingresada[posicion]+\"]\")\n",
    "        elif la_letra_existe_en_la_palabra:\n",
    "            # guardamos las letras que no coinciden en la palabra dentro de parentesis ()\n",
    "            letras_verificas.append(\"(\"+ palabra_ingresada[posicion]+\")\")\n",
    "        else:\n",
    "            letras_verificas.append(palabra_ingresada[posicion])\n",
    "    return letras_verificas\n"
   ]
  },
  {
   "attachments": {},
   "cell_type": "markdown",
   "metadata": {},
   "source": [
    "# Probar la funcion y oremos que funcione 🙏🏻"
   ]
  },
  {
   "cell_type": "code",
   "execution_count": 60,
   "metadata": {},
   "outputs": [
    {
     "name": "stdout",
     "output_type": "stream",
     "text": [
      "['[a]', 'r', 'b', 'o', 'l']\n"
     ]
    }
   ],
   "source": [
    "linea_verificada = obtener_fila_verificada(\"aguas\",\"arbol\")\n",
    "\n",
    "print(linea_verificada)"
   ]
  },
  {
   "attachments": {},
   "cell_type": "markdown",
   "metadata": {},
   "source": [
    "## Challenge 🤺 - 20m\n",
    "\n",
    "Dada la lista de ejemplo:\n",
    "\n",
    "lista = [['h', 'o', 'l', 'i', 's'], ['h', 'e', 'l', 'l', 'o'], ['h', 'a', 'l', 'l', 'o']]\n",
    "\n",
    "Crear una función que imprima una grilla (lista de listas), una línea por cada lista dentro de la lista principal.\n",
    "\n",
    "Ejemplo del resultado esperado:\n",
    "\n",
    "```\n",
    "['h', 'o', 'l', 'i', 's'] \n",
    "['h', 'e', 'l', 'l', 'o'] \n",
    "['h', 'a', 'l', 'l', 'o']\n",
    "```\n"
   ]
  },
  {
   "cell_type": "code",
   "execution_count": 61,
   "metadata": {},
   "outputs": [
    {
     "name": "stdout",
     "output_type": "stream",
     "text": [
      " te quedan 6 intentos \n",
      "hola\n",
      " te quedan 5 intentos \n",
      "que\n",
      " te quedan 4 intentos \n",
      "tal\n",
      " te quedan 3 intentos \n",
      "loro\n",
      " te quedan 2 intentos \n",
      "mono\n",
      " te quedan 1 intentos \n",
      "gato\n",
      "ya no quedan intentos\n"
     ]
    }
   ],
   "source": [
    "intentos = 6\n",
    "while intentos > 0:\n",
    "    print(f\" te quedan {intentos} intentos \")\n",
    "    palabra= input(\"Ingrese la palabra: \")\n",
    "    intentos = intentos-1\n",
    "    print(palabra)\n",
    "\n",
    "print(\"ya no quedan intentos\")"
   ]
  }
 ],
 "metadata": {
  "kernelspec": {
   "display_name": "Python 3",
   "language": "python",
   "name": "python3"
  },
  "language_info": {
   "codemirror_mode": {
    "name": "ipython",
    "version": 3
   },
   "file_extension": ".py",
   "mimetype": "text/x-python",
   "name": "python",
   "nbconvert_exporter": "python",
   "pygments_lexer": "ipython3",
   "version": "3.10.6"
  },
  "orig_nbformat": 4,
  "vscode": {
   "interpreter": {
    "hash": "916dbcbb3f70747c44a77c7bcd40155683ae19c65e1c03b4aa3499c5328201f1"
   }
  }
 },
 "nbformat": 4,
 "nbformat_minor": 2
}
