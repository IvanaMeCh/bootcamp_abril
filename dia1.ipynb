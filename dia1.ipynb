{
 "cells": [
  {
   "attachments": {},
   "cell_type": "markdown",
   "metadata": {},
   "source": [
    "print() es para imprimir"
   ]
  },
  {
   "cell_type": "code",
   "execution_count": 1,
   "metadata": {},
   "outputs": [
    {
     "ename": "NameError",
     "evalue": "name 'hola' is not defined",
     "output_type": "error",
     "traceback": [
      "\u001b[0;31m---------------------------------------------------------------------------\u001b[0m",
      "\u001b[0;31mNameError\u001b[0m                                 Traceback (most recent call last)",
      "Cell \u001b[0;32mIn [1], line 1\u001b[0m\n\u001b[0;32m----> 1\u001b[0m hola\n",
      "\u001b[0;31mNameError\u001b[0m: name 'hola' is not defined"
     ]
    }
   ],
   "source": [
    "hola"
   ]
  },
  {
   "cell_type": "code",
   "execution_count": 2,
   "metadata": {},
   "outputs": [
    {
     "name": "stdout",
     "output_type": "stream",
     "text": [
      "hola chicos del bootcamp de abril!\n"
     ]
    }
   ],
   "source": [
    "print(\"hola chicos del bootcamp de abril!\")"
   ]
  },
  {
   "attachments": {},
   "cell_type": "markdown",
   "metadata": {},
   "source": [
    "variables "
   ]
  },
  {
   "cell_type": "code",
   "execution_count": 3,
   "metadata": {},
   "outputs": [
    {
     "name": "stdout",
     "output_type": "stream",
     "text": [
      "pinguino\n"
     ]
    }
   ],
   "source": [
    "nombre = \"Blanqui\"\n",
    "animales = \"pinguino\"\n",
    "print(animales)"
   ]
  },
  {
   "cell_type": "code",
   "execution_count": 9,
   "metadata": {},
   "outputs": [
    {
     "name": "stdout",
     "output_type": "stream",
     "text": [
      "banana\n",
      "aguacate\n",
      "5\n"
     ]
    }
   ],
   "source": [
    "fruta= 'banana'\n",
    "cantidad_de_frutas = 5\n",
    "print(fruta)\n",
    "#se guarda ahora aguacate en fruta por eso al imprimir al final sale aguacate\n",
    "fruta = 'aguacate'\n",
    "print(fruta)\n",
    "print(cantidad_de_frutas)"
   ]
  },
  {
   "attachments": {},
   "cell_type": "markdown",
   "metadata": {},
   "source": [
    "# Tipos de datos"
   ]
  },
  {
   "cell_type": "code",
   "execution_count": 14,
   "metadata": {},
   "outputs": [
    {
     "name": "stdout",
     "output_type": "stream",
     "text": [
      "65.3\n",
      "10\n"
     ]
    }
   ],
   "source": [
    "cantidad_de_frutas = 10 #Numero entero --> integer --> int\n",
    "peso = 65.3 # Numero decimal --> float --> numero que no es entero\n",
    "producto = 'gaseosa' #texto --> strings --> str\n",
    "esta_abierto_negocio = True # Boolean --> bol\n",
    "esta_abierto_negocio = False\n",
    "print(peso)\n",
    "print(cantidad_de_frutas)"
   ]
  },
  {
   "attachments": {},
   "cell_type": "markdown",
   "metadata": {},
   "source": [
    "# operaciones aritmeticas"
   ]
  },
  {
   "cell_type": "code",
   "execution_count": 23,
   "metadata": {},
   "outputs": [
    {
     "name": "stdout",
     "output_type": "stream",
     "text": [
      "50000\n",
      "25000.0\n",
      "9.0\n"
     ]
    }
   ],
   "source": [
    "#suma\n",
    "suma_total = 12000 +5000 + 7000 + 15000\n",
    "#print(suma_total)\n",
    "#Resta\n",
    "total_gasto = suma_total -15000\n",
    "#print(total_gasto)\n",
    "\n",
    "#multiplicacion\n",
    "precio_gaseosa = 10000\n",
    "cantidad_gaseosas = 5\n",
    "total_compra = precio_gaseosa * cantidad_gaseosas\n",
    "print(total_compra)\n",
    "\n",
    "#division\n",
    "cantidad_de_personas = 2\n",
    "vaquita = total_compra /cantidad_de_personas\n",
    "print(vaquita)\n",
    "\n",
    "print( 2 * 2 + 12 / 2 - 1)\n"
   ]
  },
  {
   "cell_type": "code",
   "execution_count": 25,
   "metadata": {},
   "outputs": [
    {
     "name": "stdout",
     "output_type": "stream",
     "text": [
      "hola mundo\n",
      "hola chicos!\n"
     ]
    }
   ],
   "source": [
    "print('hola mundo')\n",
    "print(\"hola chicos!\")"
   ]
  },
  {
   "attachments": {},
   "cell_type": "markdown",
   "metadata": {},
   "source": [
    "## Challenge 🤺 - 15m\n",
    "\n",
    "Suma: asignar dos números en dos variables diferentes `cantidad_de_manzanas` y `cantidad_de_naranjas`. Luego sumar ambas variables en `cantidad_de_frutas`. Imprimir la última variable.\n",
    "\n",
    "Resta: asignar un valor numérico a la variable `frutas_vendidas`. Luego, asignar la resta entre `cantidad_de_frutas` y `frutas_vendidas` a la variable `frutas_restantes`. Imprimir la última variable."
   ]
  },
  {
   "attachments": {},
   "cell_type": "markdown",
   "metadata": {},
   "source": [
    "# solucion de Franco 🍍"
   ]
  },
  {
   "cell_type": "code",
   "execution_count": 26,
   "metadata": {},
   "outputs": [
    {
     "name": "stdout",
     "output_type": "stream",
     "text": [
      "7\n",
      "2\n"
     ]
    }
   ],
   "source": [
    "#Suma\n",
    "cantidad_de_manzanas = 3\n",
    "cantidad_de_naranjas = 4\n",
    "cantidad_de_frutas = cantidad_de_manzanas + cantidad_de_naranjas\n",
    "print(cantidad_de_frutas)\n",
    "\n",
    "#Resta\n",
    "frutas_vendidas = 5\n",
    "frutas_restantes = cantidad_de_frutas - frutas_vendidas\n",
    "print(frutas_restantes)"
   ]
  },
  {
   "attachments": {},
   "cell_type": "markdown",
   "metadata": {},
   "source": [
    "# Solucion de Esteban 😎"
   ]
  },
  {
   "cell_type": "code",
   "execution_count": 28,
   "metadata": {},
   "outputs": [
    {
     "name": "stdout",
     "output_type": "stream",
     "text": [
      "hay 8 frutas en total\n",
      "hay 3 frutas restantes\n"
     ]
    }
   ],
   "source": [
    "cantidad_de_manzanas = 3\n",
    "cantidad_de_naranjas = 5\n",
    "\n",
    "cantidad_de_frutas = cantidad_de_manzanas + cantidad_de_naranjas\n",
    "print(\"hay\", cantidad_de_frutas, \"frutas en total\" )\n",
    "frutas_vendidas = 5\n",
    "frutas_restantes = cantidad_de_frutas - frutas_vendidas\n",
    "print (\"hay\", frutas_restantes, \"frutas restantes\")"
   ]
  },
  {
   "attachments": {},
   "cell_type": "markdown",
   "metadata": {},
   "source": [
    "# Jugando con texto"
   ]
  },
  {
   "cell_type": "code",
   "execution_count": 44,
   "metadata": {},
   "outputs": [
    {
     "name": "stdout",
     "output_type": "stream",
     "text": [
      "ClaudiaAchucarro\n",
      "Claudia Achucarro\n",
      "Lucas Blanco\n",
      "Claudia Achucarro\n",
      "hola mi nombre es Claudia y mi apellido es Achucarro mi edad es: 24\n"
     ]
    }
   ],
   "source": [
    "nombre = 'Claudia'\n",
    "apellido = \"Achucarro\"\n",
    "edad = 24\n",
    "\n",
    "print(nombre + apellido)\n",
    "\n",
    "print(nombre + \" \"+apellido)\n",
    "\n",
    "nombre2 = 'Lucas '\n",
    "apellido2 = \"Blanco\"\n",
    "print(nombre2+apellido2)\n",
    "\n",
    "print(nombre,apellido)\n",
    "\n",
    "\n",
    "# print(\"hola mi nombre es \" +nombre+ \"mi apellido es \"+apellido+\"mi edad es \"+edad)\n",
    "print(f\"hola mi nombre es {nombre} y mi apellido es {apellido} mi edad es: {edad}\")\n"
   ]
  },
  {
   "attachments": {},
   "cell_type": "markdown",
   "metadata": {},
   "source": [
    "## Challenge 🤺 - 15m\n",
    "\n",
    "Asignar el nombre y el apellido de tu compañera/o a las variables nombre y apellido. Luego, imprimir una frase, utilizando las variables.\n",
    "EJEMPLO: \"Hola. Me llamo Sergio Blanco. Mucho gusto.\"\n",
    "nombre = \"Sergio\"\n",
    "apellido = \"Blanco\"\n",
    "### Podemos sumar textos + variables del mismo tipo\n",
    "print(f\"Hola. Mi nombre es {nombre} {apellido}, Mucho gusto.\")"
   ]
  },
  {
   "attachments": {},
   "cell_type": "markdown",
   "metadata": {},
   "source": [
    "# Solucion de Joaquin 🤓"
   ]
  },
  {
   "cell_type": "code",
   "execution_count": 45,
   "metadata": {},
   "outputs": [
    {
     "name": "stdout",
     "output_type": "stream",
     "text": [
      "Hola . Me llamo Rodrigo Blanco .Mucho Gusto\n",
      "hola. Me llamo Rodrigo Blanco. Mucho gusto\n"
     ]
    }
   ],
   "source": [
    "nombre = \" Rodrigo\"\n",
    "apellido = \"Blanco\"\n",
    "print(\"Hola . Me llamo\" + nombre +\" \"+ apellido + \" .Mucho Gusto\")\n",
    "print(f\"hola. Me llamo{nombre} {apellido}. Mucho gusto\")"
   ]
  },
  {
   "attachments": {},
   "cell_type": "markdown",
   "metadata": {},
   "source": [
    "# Solucion de Bruno 😹"
   ]
  },
  {
   "cell_type": "code",
   "execution_count": 46,
   "metadata": {},
   "outputs": [
    {
     "name": "stdout",
     "output_type": "stream",
     "text": [
      "Hola. Mi nombre es Federico Cardozo, Mucho gusto\n"
     ]
    }
   ],
   "source": [
    "nombre = \"Federico\" #nombre\n",
    "apellido = \"Cardozo\" #apellido\n",
    "nombre_c = f\"{nombre} {apellido}\" #nombre completo\n",
    "print(f\"Hola. Mi nombre es {nombre_c}, Mucho gusto\") #impresion"
   ]
  },
  {
   "attachments": {},
   "cell_type": "markdown",
   "metadata": {},
   "source": [
    "## Challenge 🤺 - 15m\n",
    "\n",
    "Crear un app Vaquita:\n",
    "- Declarar el monto total a pagar\n",
    "- La cantidad de personas\n",
    "- Al final, imprimir el monto que debe pagar cada persona de la siguiente forma:\n",
    "\"El monto a pagar es de 10000 guaranies. Cada persona debe pagar 2000 guaranies.\""
   ]
  },
  {
   "attachments": {},
   "cell_type": "markdown",
   "metadata": {},
   "source": [
    "# Solucion de Nahuel 🗿"
   ]
  },
  {
   "cell_type": "code",
   "execution_count": 62,
   "metadata": {},
   "outputs": [
    {
     "name": "stdout",
     "output_type": "stream",
     "text": [
      "Iniciando app Vaquita\n",
      "El monto a pagar por cada persona es: Gs. 10,000.0 \n"
     ]
    }
   ],
   "source": [
    "# Saludo inicial\n",
    "print(\"Iniciando app Vaquita\")\n",
    "# Definicion de variables\n",
    "monto_total_a_pagar = input(\"Favor ingresar el monto total a pagar: \")\n",
    "cantidad_de_personas = input(\"Favor ingresar la cantidad de personas: \")\n",
    "\n",
    "# Calculo de monto a pagar por persona\n",
    "monto_a_pagar_por_persona = float(monto_total_a_pagar) / float(cantidad_de_personas)\n",
    "\n",
    "# Imprimir el total a pagar por persona formateando el dato para mayor legibilidad\n",
    "print(f\"El monto a pagar por cada persona es: Gs. {monto_a_pagar_por_persona:,} \")"
   ]
  },
  {
   "attachments": {},
   "cell_type": "markdown",
   "metadata": {},
   "source": [
    "# solucion de Daniel 👹"
   ]
  },
  {
   "cell_type": "code",
   "execution_count": 52,
   "metadata": {},
   "outputs": [
    {
     "name": "stdout",
     "output_type": "stream",
     "text": [
      "El monto total a pagar es de: 300000. Cada persona debe pagar: 12500.0\n",
      "El monto total a pagar es de: 300000. Cada persona debe pagar: 12500.0 guaranies\n"
     ]
    }
   ],
   "source": [
    "monto_total = 300000\n",
    "cantidad_personas = 24\n",
    "pago_persona = monto_total / cantidad_personas\n",
    "\n",
    "print (f\"El monto total a pagar es de: {monto_total}. Cada persona debe pagar: {pago_persona}\")\n",
    "print (\"El monto total a pagar es de: \"+ str(monto_total)+\". Cada persona debe pagar: \"+ str(pago_persona)+ \" guaranies\")"
   ]
  },
  {
   "attachments": {},
   "cell_type": "markdown",
   "metadata": {},
   "source": [
    "# solucion 3 Bruno"
   ]
  },
  {
   "cell_type": "code",
   "execution_count": 53,
   "metadata": {},
   "outputs": [
    {
     "name": "stdout",
     "output_type": "stream",
     "text": [
      "El monto a pagar es de 350,000 guaranies. Cada persona debe pagar 70,000 guaranies\n"
     ]
    }
   ],
   "source": [
    "total_monto = 350000\n",
    "cantidad_personas = 5\n",
    "cada_uno = int(total_monto/ cantidad_personas)\n",
    "print(f\"El monto a pagar es de {total_monto:,} guaranies. Cada persona debe pagar {cada_uno:,} guaranies\")"
   ]
  },
  {
   "cell_type": "code",
   "execution_count": 59,
   "metadata": {},
   "outputs": [
    {
     "name": "stdout",
     "output_type": "stream",
     "text": [
      "mono\n",
      "8\n",
      "<class 'str'>\n",
      "<class 'int'>\n"
     ]
    }
   ],
   "source": [
    "nombre_animal = input(\"cual animal desea cargar? \")\n",
    "print(nombre_animal)\n",
    "\n",
    "cantidad_de_animales = input('cuantos animales desea cargar')\n",
    "print(cantidad_de_animales)\n",
    "\n",
    "numero = 10\n",
    "\n",
    "print(type(cantidad_de_animales))\n",
    "print(type(numero))"
   ]
  },
  {
   "attachments": {},
   "cell_type": "markdown",
   "metadata": {},
   "source": [
    "### Challenge 🤺 - 15m\n",
    "\n",
    "Solicitar al usuario ingresar dos productos y almacenar sus precios y cantidades. Luego, imprimir la suma de los precios de cada productos.\n",
    "\n",
    "Sugerencia: convertir los precios a números enteros antes de sumarlos.\n",
    "\n",
    "Ejemplo resultado:\n",
    "- Los panes alcanzan: 12000\n",
    "- Los chocolates alcanzan: 23000"
   ]
  },
  {
   "attachments": {},
   "cell_type": "markdown",
   "metadata": {},
   "source": [
    "# Solucion de Celso 🐫"
   ]
  },
  {
   "cell_type": "code",
   "execution_count": 64,
   "metadata": {},
   "outputs": [
    {
     "name": "stdout",
     "output_type": "stream",
     "text": [
      "Las frutas alcanzan 24000 guaranies.\n",
      "Las verduras alcanzan 18000 guaranies.\n"
     ]
    }
   ],
   "source": [
    "#Carga de datos: Precio de productos y cantidad.\n",
    "precio_de_producto1 = int(input(\"Ingese precio del producto 1: \"))\n",
    "cantidad_de_producto1 = int(input(\"Ingrese la cantidad de productos 1: \"))\n",
    "\n",
    "precio_de_producto2 = int(input(\"ingrese precio del producto 2: \"))\n",
    "cantidad_de_producto2 = int(input(\"Ingrese la cantidad de productos 2: \"))\n",
    "\n",
    "#Calculo de los datos.\n",
    "total_de_producto1 = precio_de_producto1 * cantidad_de_producto1\n",
    "total_de_producto2 = precio_de_producto2 * cantidad_de_producto2\n",
    "\n",
    "#impresion de resultados.\n",
    "print(f\"Las frutas alcanzan {total_de_producto1} guaranies.\")\n",
    "print(f\"Las verduras alcanzan {total_de_producto2} guaranies.\")\n"
   ]
  },
  {
   "attachments": {},
   "cell_type": "markdown",
   "metadata": {},
   "source": [
    "# solucion de Federico 🐀"
   ]
  },
  {
   "cell_type": "code",
   "execution_count": 65,
   "metadata": {},
   "outputs": [
    {
     "name": "stdout",
     "output_type": "stream",
     "text": [
      "La jamon alcanza: 50000\n",
      "El jabon alcanza: 5000\n",
      "La compra alcanza 110000\n"
     ]
    }
   ],
   "source": [
    "nombre_producto = input (\"Ingresar un producto\")\n",
    "precio_producto = int (input (\"Ingresar precio del producto\"))\n",
    "cantidad_producto = int (input (\"Ingresar cantidad del producto\"))\n",
    "nombre_producto_2 = input (\"Ingresar segundo producto\")\n",
    "precio_producto_2 = int (input (\"Ingresar precio del segundo producto\"))\n",
    "cantidad_producto_2 = int (input (\"Ingresar cantidad del segundo producto\"))\n",
    "suma = precio_producto * cantidad_producto + precio_producto_2 * cantidad_producto_2\n",
    "print (f\"La {nombre_producto} alcanza: {precio_producto}\")\n",
    "print (f\"El {nombre_producto_2} alcanza: {precio_producto_2}\")\n",
    "print (f\"La compra alcanza {suma}\")"
   ]
  },
  {
   "cell_type": "code",
   "execution_count": 73,
   "metadata": {},
   "outputs": [
    {
     "name": "stdout",
     "output_type": "stream",
     "text": [
      "estudiante ivana mellone agregado a la lista\n",
      "estudiante tamara cantero agregado a la lista\n"
     ]
    }
   ],
   "source": [
    "def agregar_estudiantes(): #nombrar nuestra funcion \n",
    "    nombre = input(\"ingrese el nombre del estudiante\")\n",
    "    apellido= input(\"ingrese su apellido: \")\n",
    "    print(f\"estudiante {nombre} {apellido} agregado a la lista\")\n",
    "\n",
    "#llamamos a la funcion\n",
    "\n",
    "agregar_estudiantes()\n",
    "agregar_estudiantes()"
   ]
  },
  {
   "attachments": {},
   "cell_type": "markdown",
   "metadata": {},
   "source": [
    "## Challenge 🤺 - 15m\n",
    "\n",
    "Crear una función para su presupuesto mensual y que imprima cuanto dinero les sobra.\n",
    "Ejecutar la función 3 veces.\n",
    "Ejemplo:\\\n",
    "presupuesto mensual = 450000\\\n",
    "gastos mensuales = 150000\\\n",
    "dinero sobrante = presupuesto mensual - gastos mensuales"
   ]
  },
  {
   "attachments": {},
   "cell_type": "markdown",
   "metadata": {},
   "source": [
    "# Solucion de Ceci 🎮"
   ]
  },
  {
   "cell_type": "code",
   "execution_count": 74,
   "metadata": {},
   "outputs": [
    {
     "name": "stdout",
     "output_type": "stream",
     "text": [
      "El dinero que me sobra es: 200000 Gs\n",
      "¡Bienvenida a la pobreza, no gastes tanto\n",
      "----------------------//--------------------------------\n",
      "El dinero que me sobra es: 600000 Gs\n",
      "¡Bienvenida a la pobreza, no gastes tanto\n",
      "----------------------//--------------------------------\n",
      "El dinero que me sobra es: 10000 Gs\n",
      "¡Bienvenida a la pobreza, no gastes tanto\n",
      "----------------------//--------------------------------\n"
     ]
    }
   ],
   "source": [
    "#Crear funcion que imprima cuanto dinero me sobra# \n",
    "\n",
    "def presupuesto_mensual_Ceci():\n",
    "    presupuesto_mensual = int(input(\"Favor cargar presupuesto del mes\"))\n",
    "    gastos_mensuales = int(input(\"Favor cargar gastos del mes\"))\n",
    "    calculo_dinero_sobrante = presupuesto_mensual - gastos_mensuales\n",
    "\n",
    "    print(f\"El dinero que me sobra es: {calculo_dinero_sobrante} Gs\")\n",
    "    print(f\"¡Bienvenida a la pobreza, no gastes tanto\")\n",
    "    print(\"----------------------//--------------------------------\")\n",
    "\n",
    "presupuesto_mensual_Ceci()\n",
    "presupuesto_mensual_Ceci()\n",
    "presupuesto_mensual_Ceci()"
   ]
  },
  {
   "attachments": {},
   "cell_type": "markdown",
   "metadata": {},
   "source": [
    "# Solucion de Ale 🐍"
   ]
  },
  {
   "cell_type": "code",
   "execution_count": 75,
   "metadata": {},
   "outputs": [
    {
     "name": "stdout",
     "output_type": "stream",
     "text": [
      "Usted dispone de 100,000 grs actualmente. \n",
      "A fin de mes tendra -700,000 grs teniendo en cuenta sus gastos.\n",
      "---------------------------------\n",
      "Usted dispone de 500,000 grs actualmente. \n",
      "A fin de mes tendra 365,000 grs teniendo en cuenta sus gastos.\n",
      "---------------------------------\n",
      "Usted dispone de 3,000,000 grs actualmente. \n",
      "A fin de mes tendra 2,995,000 grs teniendo en cuenta sus gastos.\n",
      "---------------------------------\n"
     ]
    }
   ],
   "source": [
    "def presupuesto_mensual(): #Definimos la funcion\n",
    "\n",
    "    mes_presupuesto = input(\"Cuanto dinero mensual dispondra? \")\n",
    "    gastos = input('Ingrese sus gastos mensuales: ')\n",
    "\n",
    "    dinero_restante = int(mes_presupuesto) - int(gastos)\n",
    "\n",
    "    #Imprimimos el dinero restante mensual con un salto de linea representado por: '\\n'\n",
    "    print(f\"Usted dispone de {int(mes_presupuesto):,} grs actualmente. \\nA fin de mes tendra {int(dinero_restante):,} grs teniendo en cuenta sus gastos.\")\n",
    "    print(\"------------------------------s---\")\n",
    "\n",
    "#Llamamos a la funcion\n",
    "presupuesto_mensual()\n",
    "presupuesto_mensual()\n",
    "presupuesto_mensual()\n",
    "\n"
   ]
  },
  {
   "cell_type": "code",
   "execution_count": 78,
   "metadata": {},
   "outputs": [
    {
     "name": "stdout",
     "output_type": "stream",
     "text": [
      "el alumno Jose se agrego a la lista\n"
     ]
    }
   ],
   "source": [
    "def agregar_estudiantes(nombre,apellido):\n",
    "    print(f\"el alumno {nombre} {apellido} se agrego a la lista\")\n",
    "\n",
    "agregar_estudiantes('Jose','Aveiro')"
   ]
  },
  {
   "attachments": {},
   "cell_type": "markdown",
   "metadata": {},
   "source": [
    "## Challenge 🤺 - 15m\n",
    "\n",
    "Dada la función que acabamos de crear, definir un parametro mas del dato del estudiante que quiera agregar."
   ]
  },
  {
   "attachments": {},
   "cell_type": "markdown",
   "metadata": {},
   "source": [
    "# Solucion de Joseph 🤡"
   ]
  },
  {
   "cell_type": "code",
   "execution_count": 79,
   "metadata": {},
   "outputs": [
    {
     "name": "stdout",
     "output_type": "stream",
     "text": [
      "El alumno Pedro Angeles se agrego a la lista del 8 grado\n"
     ]
    }
   ],
   "source": [
    "def agregar_estudiante(nombre_alumno, apellido_alumno, grado):\n",
    "    print(f\"El alumno {nombre_alumno} {apellido_alumno} se agrego a la lista del {grado} grado\")\n",
    "\n",
    "agregar_estudiante(\"Pedro\",\"Angeles\", 8)"
   ]
  },
  {
   "attachments": {},
   "cell_type": "markdown",
   "metadata": {},
   "source": [
    "# solucion de Bruno 😈"
   ]
  },
  {
   "cell_type": "code",
   "execution_count": 80,
   "metadata": {},
   "outputs": [
    {
     "name": "stdout",
     "output_type": "stream",
     "text": [
      "Nombre: Ivana\n",
      "Apellido: Mellone\n",
      "Edad = 25\n",
      "-----------------------------------------------\n",
      "Nombre: SOfi\n",
      "Apellido: Silva\n",
      "Edad = 12\n",
      "-----------------------------------------------\n",
      "Nombre: edu\n",
      "Apellido: qui\n",
      "Edad = 15\n",
      "-----------------------------------------------\n"
     ]
    }
   ],
   "source": [
    "#Funcion\n",
    "def datos_estudiantes(nombre, apellido, edad): #se declara la funcion con los parametros\n",
    "    print(f\"Nombre: {nombre}\") #imprimir el nombre\n",
    "    print(f\"Apellido: {apellido}\" ) #imprimir el apellido\n",
    "    print(f\"Edad = {edad}\") #imprimir la edad\n",
    "    print(\"-----------------------------------------------\")\n",
    "\n",
    "#Primera llamada\n",
    "nombre = input(\"Ingresa tu Nombre\")                    #primer parametro\n",
    "apellido = input(\"Ingresa tu Apellido\")                #segundo parametro\n",
    "edad = input(\"Ingresar tu edad\")                       #tercer parametro\n",
    "datos_estudiantes(nombre, apellido, edad)\n",
    "\n",
    "#Segunda llamada\n",
    "nombre = input(\"Ingresa tu Nombre\")                    #primer parametro\n",
    "apellido = input(\"Ingresa tu Apellido\")                #segundo parametro\n",
    "edad = input(\"Ingresar tu edad\")                       #tercer parametro\n",
    "datos_estudiantes(nombre, apellido, edad)\n",
    "\n",
    "#Tercera llamada\n",
    "nombre = input(\"Ingresa tu Nombre\")                    #primer parametro\n",
    "apellido = input(\"Ingresa tu Apellido\")                #segundo parametro\n",
    "edad = input(\"Ingresar tu edad\")                       #tercer parametro\n",
    "datos_estudiantes(nombre, apellido, edad)"
   ]
  },
  {
   "attachments": {},
   "cell_type": "markdown",
   "metadata": {},
   "source": [
    "# Funcion personalizada vs funcion built-in"
   ]
  },
  {
   "cell_type": "code",
   "execution_count": null,
   "metadata": {},
   "outputs": [],
   "source": [
    "print() #funcion built-in\n",
    "input() #funcion built-in\n",
    "agregar_estudiante() # funcion personalizada"
   ]
  },
  {
   "attachments": {},
   "cell_type": "markdown",
   "metadata": {},
   "source": [
    "# Scope"
   ]
  },
  {
   "cell_type": "code",
   "execution_count": 85,
   "metadata": {},
   "outputs": [
    {
     "name": "stdout",
     "output_type": "stream",
     "text": [
      "mi nueva edad es 25 años\n",
      "17\n"
     ]
    }
   ],
   "source": [
    "edad = 17 #valor global\n",
    "\n",
    "def cambiar_mi_edad():\n",
    "    edad= 25 #valor local\n",
    "    print(f\"mi nueva edad es {edad} años\")\n",
    "\n",
    "cambiar_mi_edad()\n",
    "\n",
    "print(edad)"
   ]
  },
  {
   "attachments": {},
   "cell_type": "markdown",
   "metadata": {},
   "source": [
    "## Challenge 🤺 - 15m\n",
    "Crear una función \"calculadora\" que reciba como parametro dos numeros y que realize operaciones con ellos (suma, resta, multiplicacion) e imprima sus resultados en un mensaje. \n",
    "- Ejemplo: print(f\"la suma es {resultado_suma}, la resta es {resultado_resta} y su multiplicacion {resultado_multiplicacion} \")\n"
   ]
  }
 ],
 "metadata": {
  "kernelspec": {
   "display_name": "Python 3",
   "language": "python",
   "name": "python3"
  },
  "language_info": {
   "codemirror_mode": {
    "name": "ipython",
    "version": 3
   },
   "file_extension": ".py",
   "mimetype": "text/x-python",
   "name": "python",
   "nbconvert_exporter": "python",
   "pygments_lexer": "ipython3",
   "version": "3.10.6"
  },
  "orig_nbformat": 4,
  "vscode": {
   "interpreter": {
    "hash": "916dbcbb3f70747c44a77c7bcd40155683ae19c65e1c03b4aa3499c5328201f1"
   }
  }
 },
 "nbformat": 4,
 "nbformat_minor": 2
}
