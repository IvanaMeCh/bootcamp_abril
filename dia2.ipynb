{
 "cells": [
  {
   "attachments": {},
   "cell_type": "markdown",
   "metadata": {},
   "source": [
    "## Del Challenge anterior 🤺 - 15m\n",
    "Crear una función \"calculadora\" que reciba como parametro dos numeros y que realize operaciones con ellos (suma, resta, multiplicacion) e imprima sus resultados en un mensaje. \n",
    "- Ejemplo: print(f\"la suma es {resultado_suma}, la resta es {resultado_resta} y su multiplicacion {resultado_multiplicacion} \")"
   ]
  },
  {
   "cell_type": "code",
   "execution_count": 3,
   "metadata": {},
   "outputs": [
    {
     "name": "stdout",
     "output_type": "stream",
     "text": [
      "El resultado de la suma es 35, el resultado de la resta es -15 y el resultado de la multiplicacion es 250\n"
     ]
    }
   ],
   "source": [
    "def calculadora(numero1, numero2):\n",
    "    suma = numero1 + numero2\n",
    "    resta = numero2 - numero1\n",
    "    multiplicacion = numero1 * numero2\n",
    "    print(f\"El resultado de la suma es {suma}, el resultado de la resta es {resta} y el resultado de la multiplicacion es {multiplicacion}\")\n",
    "\n",
    "calculadora(25,10)\n"
   ]
  },
  {
   "attachments": {},
   "cell_type": "markdown",
   "metadata": {},
   "source": [
    "# Condicionales"
   ]
  },
  {
   "cell_type": "code",
   "execution_count": 7,
   "metadata": {},
   "outputs": [
    {
     "name": "stdout",
     "output_type": "stream",
     "text": [
      "podes comprar el principito\n",
      "gracias por comprar\n"
     ]
    }
   ],
   "source": [
    "plata = 120000\n",
    "\n",
    "# mayor > menor\n",
    "\n",
    "if plata >= 100000: # -> True o False\n",
    "    print(\"podes comprar el principito\") # si es True\n",
    "else:\n",
    "    print(\"podes comprar solo diario popular\") #si es False\n",
    "    print(\"lo importante es leer\")\n",
    "\n",
    "print(\"gracias por comprar\")"
   ]
  },
  {
   "attachments": {},
   "cell_type": "markdown",
   "metadata": {},
   "source": [
    "### Con varias condiciones"
   ]
  },
  {
   "cell_type": "code",
   "execution_count": 16,
   "metadata": {},
   "outputs": [
    {
     "name": "stdout",
     "output_type": "stream",
     "text": [
      "no podes hacer nada kpe\n"
     ]
    }
   ],
   "source": [
    "plata = 100000\n",
    "edad = 19\n",
    "libro= \"50 sombras de gray\"\n",
    "\n",
    "if edad <18:\n",
    "    print(\"Es menor, no puede comprar el libro\")\n",
    "elif edad >=18 and plata >=100000:\n",
    "    print(f\"metele mi broder a la lectura de {libro}\")\n",
    "else:\n",
    "    print(\"No podes comprar el libro broder :(\")\n"
   ]
  },
  {
   "attachments": {},
   "cell_type": "markdown",
   "metadata": {},
   "source": [
    "### Condicionales dentro de una funcion"
   ]
  },
  {
   "cell_type": "code",
   "execution_count": 23,
   "metadata": {},
   "outputs": [
    {
     "name": "stdout",
     "output_type": "stream",
     "text": [
      "desempleado o estudiante\n",
      "Estudiante menor de edad\n",
      "Activo laboralmente\n",
      "jubilado\n",
      "jubilado\n"
     ]
    }
   ],
   "source": [
    "def chequear_edad (edad_laboral, trabaja):\n",
    "    if edad_laboral < 18:\n",
    "        print(\"Estudiante menor de edad\")\n",
    "    elif trabaja == True and edad_laboral < 65:\n",
    "        # == es comparacion\n",
    "        # = es asignacion\n",
    "        print('Activo laboralmente')\n",
    "    elif trabaja == False and edad_laboral <65:\n",
    "        print(\"desempleado o estudiante\")\n",
    "    else: \n",
    "        print(\"jubilado\")\n",
    "\n",
    "chequear_edad(19,False)\n",
    "chequear_edad(15,False)\n",
    "chequear_edad(40,True)\n",
    "chequear_edad(200,False)\n",
    "chequear_edad(75,True)"
   ]
  },
  {
   "attachments": {},
   "cell_type": "markdown",
   "metadata": {},
   "source": [
    "### Challenge 🤺 - 15m\n",
    "\n",
    "Escribir un programa en el que se pregunte al usuario por una temperatura (en grados Celsius), imprima la temperatura escrita, y luego clasificar la temperatura ingresada en los siguientes niveles:\n",
    "\n",
    "Entre -10 y 18 grados, que imprima \"Fresquete\".\n",
    "Entre 19 y 30 grados, que imprima \"Calor'i\".\n",
    "Entre 31 y 45 grados, que imprima \"Hakuuuuuu\".\n",
    "Para todo lo demás, imprimir \"Ñamano mba'e!\".\n",
    "\n",
    "Tip: Pueden haber tantos elif como lo necesites\n",
    "\n",
    "Operadores logicos:\n",
    "    -asignar -> variable = valor  nombre = \"santi\"\\\n",
    "    -comparacion -> ==    nombre == nombre2\\\n",
    "    -distinto de ->  != --> nombre != nombre2\\\n",
    "    -mayor o igual ->  >= \\\n",
    "    -menor o iguai ->   <= \n",
    "    -y -> and     nombre==\"santi\" and edad>19\\\n",
    "    -o -> or      nombre==\"santi\" or edad>19"
   ]
  },
  {
   "attachments": {},
   "cell_type": "markdown",
   "metadata": {},
   "source": [
    "# Solucion de Pedro 💀"
   ]
  },
  {
   "cell_type": "code",
   "execution_count": 32,
   "metadata": {},
   "outputs": [],
   "source": [
    "#Definición de la temperatura a comparar\n",
    "def temperatura():\n",
    "    temperatura_celsius = float (input(\"¿Cual es la temperatura actual?\"))\n",
    "\n",
    "#Datos que se usaran para medir la temperatura ingresada\n",
    "    if temperatura_celsius <=18:\n",
    "        print(\"Fresquete o heladito\")\n",
    "    elif temperatura_celsius >=19 and temperatura_celsius <=30:\n",
    "        print(\"Calor'i\")\n",
    "    elif temperatura_celsius >=31 and temperatura_celsius <=45: \n",
    "        print(\"Hakuu\")\n",
    "    else:\n",
    "        print(\"¿POR QUÉ HACE TANTO CALOOOOOOOOOOR?\")\n",
    "\n",
    "#Ejecución de la variable\n",
    "temperatura()\n"
   ]
  },
  {
   "attachments": {},
   "cell_type": "markdown",
   "metadata": {},
   "source": [
    "# solucion Larissa 👁️"
   ]
  },
  {
   "cell_type": "code",
   "execution_count": 31,
   "metadata": {},
   "outputs": [
    {
     "name": "stdout",
     "output_type": "stream",
     "text": [
      "La temperatura es de 23 grados celsius \n",
      "Calor i\n"
     ]
    }
   ],
   "source": [
    "temperatura= int (input (\"ingrese temperatura\"))\n",
    "print (f\"La temperatura es de {temperatura} grados celsius \")\n",
    "if temperatura >=-10 and temperatura <=18:\n",
    "    print (\"Fresquete\")\n",
    "elif temperatura >=19 and temperatura <=30 :\n",
    "    print (\"Calor i\")\n",
    "elif temperatura >=31 and temperatura<=45:\n",
    "    print (\"Hakuuuuu\")\n",
    "else:\n",
    "    print (\"Ñamano mba'e!\")\n",
    "\n"
   ]
  },
  {
   "attachments": {},
   "cell_type": "markdown",
   "metadata": {},
   "source": [
    "# Bucles condicionales"
   ]
  },
  {
   "cell_type": "code",
   "execution_count": 43,
   "metadata": {},
   "outputs": [
    {
     "name": "stdout",
     "output_type": "stream",
     "text": [
      "palabra incorrecta\n",
      "palabra incorrecta\n",
      "palabra incorrecta\n",
      "pasa nomas\n"
     ]
    }
   ],
   "source": [
    "palabra = \"dejame pasar (cara nojao)\" #ponemos la primera cosa a comparar\n",
    "palabra_magica = \"por fabo\"\n",
    "\n",
    "while palabra != palabra_magica:\n",
    "    print(\"palabra incorrecta\")\n",
    "    palabra = input(\"debes ingresar la palabra magica\")\n",
    "    \n",
    "    \n",
    "\n",
    "print(\"pasa nomas\")\n",
    "\n"
   ]
  },
  {
   "cell_type": "code",
   "execution_count": 38,
   "metadata": {},
   "outputs": [
    {
     "name": "stdout",
     "output_type": "stream",
     "text": [
      "estoy dentro del while\n",
      "estoy dentro del while\n",
      "estoy dentro del while\n",
      "estoy dentro del while\n",
      "estoy dentro del while\n",
      "estoy ya fuera del while\n"
     ]
    }
   ],
   "source": [
    "contador=0\n",
    "\n",
    "while True: \n",
    "    contador = contador +1\n",
    "    print('estoy dentro del while')\n",
    "    if contador ==5:\n",
    "        break #rompe el bucle\n",
    "\n",
    "print(\"estoy ya fuera del while\")"
   ]
  },
  {
   "attachments": {},
   "cell_type": "markdown",
   "metadata": {},
   "source": [
    "# Bucles infinitos y su utilidad "
   ]
  },
  {
   "cell_type": "code",
   "execution_count": 44,
   "metadata": {},
   "outputs": [
    {
     "name": "stdout",
     "output_type": "stream",
     "text": [
      "el numero es incorrecto\n",
      "el numero es incorrecto\n",
      "el numero es el correcto, acertaste!!\n"
     ]
    }
   ],
   "source": [
    "numero_a_adivinar = 1\n",
    "while True:\n",
    "    numero_ingresado = int(input(\"Introduce un numero\"))\n",
    "    if numero_ingresado == numero_a_adivinar:\n",
    "        print(\"el numero es el correcto, acertaste!!\")\n",
    "        break\n",
    "    else:\n",
    "        print(\"el numero es incorrecto\")\n"
   ]
  },
  {
   "attachments": {},
   "cell_type": "markdown",
   "metadata": {},
   "source": [
    "### Challenge 🤺 - 15m\n",
    "Escribir un programa que almacene una contraseña en una variable, y pregunte al usuario por la contraseña hasta que introduzca la contraseña correcta.\n",
    "\n",
    "Cuando el usuario ingrese la contrasena correcta, imprimir un mensaje secreto."
   ]
  },
  {
   "attachments": {},
   "cell_type": "markdown",
   "metadata": {},
   "source": [
    "# Solucion de Ana 🐎"
   ]
  },
  {
   "cell_type": "code",
   "execution_count": 45,
   "metadata": {},
   "outputs": [
    {
     "name": "stdout",
     "output_type": "stream",
     "text": [
      " Contraseña incorrecta. Vuelva a intentarlo.\n",
      " Contraseña incorrecta. Vuelva a intentarlo.\n",
      "Contraseña correcta\n"
     ]
    }
   ],
   "source": [
    "contraseña_correcta = \"arbol\"\n",
    "contraseña = input (\"Ingrese su contraseña:\")\n",
    "\n",
    "while contraseña != contraseña_correcta:\n",
    "    contraseña = input (\"Ingrese su contraseña:\")\n",
    "    print (\" Contraseña incorrecta. Vuelva a intentarlo.\")\n",
    "\n",
    "print (\"Contraseña correcta\")"
   ]
  },
  {
   "attachments": {},
   "cell_type": "markdown",
   "metadata": {},
   "source": [
    "# solucion de Cesar 🧔 "
   ]
  },
  {
   "cell_type": "code",
   "execution_count": 46,
   "metadata": {},
   "outputs": [
    {
     "name": "stdout",
     "output_type": "stream",
     "text": [
      "Contrasena incorrecta\n",
      "Contrasena incorrecta\n",
      "Contrasena incorrecta\n",
      "Contrasena correcta, Olimpia es el Tricampeon de America\n"
     ]
    }
   ],
   "source": [
    "contrasena_correcta = 'Tricampeon de America'\n",
    "contrasena_a_ingresar = input('Introduzca la contrasena')\n",
    "\n",
    "while contrasena_correcta != contrasena_a_ingresar:\n",
    "    print('Contrasena incorrecta')\n",
    "    contrasena_a_ingresar = input('Vuelva a ingresar la contrasena')\n",
    "\n",
    "print('Contrasena correcta, Olimpia es el Tricampeon de America')"
   ]
  },
  {
   "attachments": {},
   "cell_type": "markdown",
   "metadata": {},
   "source": [
    "# solucion con true de Esteban 🌺"
   ]
  },
  {
   "cell_type": "code",
   "execution_count": 2,
   "metadata": {},
   "outputs": [
    {
     "name": "stdout",
     "output_type": "stream",
     "text": [
      "Usuario o contraseña incorrectos\n",
      "Bienvenido cornud@\n"
     ]
    }
   ],
   "source": [
    "\n",
    "user_register = input(\"Registre su nombre de usuario: \")\n",
    "password_register = input(\"Registre su contraseña: \")\n",
    "\n",
    "while True:\n",
    "    user_login = input(\"Ingrese su nombre de usuario para ingresar: \")\n",
    "    password_login = input(\"Ingrese su contraseña para ingresar: \")\n",
    "    if user_login == user_register and password_login == password_register:\n",
    "        print(\"Bienvenido cornud@\")\n",
    "        break\n",
    "    else:\n",
    "        print(\"Usuario o contraseña incorrectos\")"
   ]
  },
  {
   "attachments": {},
   "cell_type": "markdown",
   "metadata": {},
   "source": [
    "# Listas 📏"
   ]
  },
  {
   "cell_type": "code",
   "execution_count": 56,
   "metadata": {},
   "outputs": [
    {
     "name": "stdout",
     "output_type": "stream",
     "text": [
      "Maga\n",
      "Luis\n",
      "5\n",
      "['Maga', 'Juan', 'Florencia', 'Bienvenido', 'Luis', 'jose']\n",
      "['Ivana', 'Juan', 'Florencia', 'Bienvenido', 'Luis', 'jose']\n",
      "['Juan', 'Florencia', 'Bienvenido', 'Luis', 'jose']\n",
      "['Juan', 'Florencia', 'Luis', 'jose']\n"
     ]
    }
   ],
   "source": [
    "lista_participantes=[\"Maga\",\"Juan\",\"Florencia\",\"Bienvenido\",\"Luis\"]\n",
    "\n",
    "#diferentes tipos de datos en una lista\n",
    "lista_booleanos = [True, False, False,True]\n",
    "lista_numeros =[5, 4.5, 78, 22, 1.5]\n",
    "lista_variada = [5, 'Edu', 'Lucas', True, 6.7]\n",
    "\n",
    "#Acceso a los elementos de una lista\n",
    "print(lista_participantes[0]) # el cero indica la posicion del primer elemento\n",
    "print(lista_participantes[4])\n",
    "\n",
    "#contar los elementos de una lista\n",
    "print(len(lista_participantes)) #len() cuenta los elementos de la lista, dentro del parentesis va el nombre de la lista\n",
    "\n",
    "#anhadir elemento al final de la lista\n",
    "lista_participantes.append(\"jose\")\n",
    "print(lista_participantes)\n",
    "\n",
    "#modificar elemento\n",
    "lista_participantes[0] = 'Ivana'\n",
    "print(lista_participantes)\n",
    "\n",
    "#eliminar elemento especifico por valor\n",
    "lista_participantes.remove(\"Ivana\")\n",
    "print(lista_participantes)\n",
    "\n",
    "#eliminar elemento especifico por posicion\n",
    "lista_participantes.pop(2)\n",
    "print(lista_participantes)"
   ]
  },
  {
   "attachments": {},
   "cell_type": "markdown",
   "metadata": {},
   "source": [
    "### Challenge 🤺 - 15m\n",
    "\n",
    "Crear una lista de 5 elementos. Luego, seguir los siguientes pasos.\n",
    "\n",
    "- Agregar un elemento al final de la lista.\n",
    "\n",
    "- Modificar el segundo elemento.\n",
    "\n",
    "- Eliminar el tercer elemento."
   ]
  },
  {
   "attachments": {},
   "cell_type": "markdown",
   "metadata": {},
   "source": [
    "# solucion de Mauri 🐚"
   ]
  },
  {
   "cell_type": "code",
   "execution_count": 57,
   "metadata": {},
   "outputs": [
    {
     "name": "stdout",
     "output_type": "stream",
     "text": [
      "['zanahoria', 'leche', 'pan', 'frutas', 'lechuga']\n",
      "--------------------\n",
      "['zanahoria', 'leche', 'pan', 'frutas', 'lechuga', 'manzana']\n",
      "-----------------\n",
      "['zanahoria', 'morron', 'pan', 'frutas', 'lechuga', 'manzana']\n",
      "--------------------\n",
      "['zanahoria', 'morron', 'frutas', 'lechuga', 'manzana']\n"
     ]
    }
   ],
   "source": [
    "lista_de_super = [\"zanahoria\",\"leche\",\"pan\",\"frutas\",'lechuga'] #creacion de lista\n",
    "\n",
    "print(lista_de_super)\n",
    "lista_de_super.append(\"manzana\") \n",
    "print(\"--------------------\")\n",
    "print(lista_de_super)\n",
    "lista_de_super[1]=\"morron\"\n",
    "print(\"-----------------\")\n",
    "print(lista_de_super)\n",
    "lista_de_super.pop(2)\n",
    "print(\"--------------------\")\n",
    "print (lista_de_super)"
   ]
  },
  {
   "attachments": {},
   "cell_type": "markdown",
   "metadata": {},
   "source": [
    "# Solucion de Juan 🦖"
   ]
  },
  {
   "cell_type": "code",
   "execution_count": 58,
   "metadata": {},
   "outputs": [
    {
     "name": "stdout",
     "output_type": "stream",
     "text": [
      "['Cero', 'Uno', 'Dos', 'Tres', 'Cuatro']\n",
      "['Cero', 'Uno', 'Dos', 'Tres', 'Cuatro', 'Cinco']\n",
      "['Cero', 'Uno-Modificado', 'Dos', 'Tres', 'Cuatro', 'Cinco']\n",
      "['Cero', 'Uno-Modificado', 'Tres', 'Cuatro', 'Cinco']\n"
     ]
    }
   ],
   "source": [
    "# Crear una lista de  5 elementos\n",
    "lista = [\"Cero\", \"Uno\", \"Dos\", \"Tres\", \"Cuatro\"]\n",
    "print(lista)\n",
    "\n",
    "# Agregar un elemento al final de la lista\n",
    "lista.append(\"Cinco\")\n",
    "print(lista)\n",
    "\n",
    "# Modificar el segundo elemento\n",
    "lista[1] = \"Uno-Modificado\"\n",
    "print(lista)\n",
    "\n",
    "# Eliminar el tercer elemento\n",
    "lista.pop(2)\n",
    "print(lista)"
   ]
  },
  {
   "attachments": {},
   "cell_type": "markdown",
   "metadata": {},
   "source": [
    "# Bucles iterativos (for)"
   ]
  },
  {
   "cell_type": "code",
   "execution_count": 64,
   "metadata": {},
   "outputs": [
    {
     "name": "stdout",
     "output_type": "stream",
     "text": [
      "hola, buen dia\n",
      "hola, buen dia\n",
      "hola, buen dia\n",
      "hola, buen dia\n",
      "hola, buen dia\n",
      "0\n",
      "1\n",
      "2\n",
      "3\n",
      "4\n",
      "4\n",
      "<class 'int'>\n"
     ]
    }
   ],
   "source": [
    "# imprimomos un saludo 5 veces\n",
    "for iterador in range(5):\n",
    "    print(\"hola, buen dia\")\n",
    "\n",
    "for iterador in range(5):\n",
    "    print(iterador)\n",
    "\n",
    "#print(iterador)\n",
    "print(type(iterador))"
   ]
  },
  {
   "attachments": {},
   "cell_type": "markdown",
   "metadata": {},
   "source": [
    "### Challenge 🤺 - 15m\n",
    "\n",
    "Escribir un programa que itere en un rango de 10 veces. Por cada iteracion multiplicar el iterador por dos e imprimir el resultado.\n",
    "ej:\n",
    "- El resultado de 1 * 2 es 2 \n",
    "- El resultado de 2 * 2 es 4 \n",
    "- El resultado de 3 * 2 es 6\n",
    "- ..."
   ]
  },
  {
   "attachments": {},
   "cell_type": "markdown",
   "metadata": {},
   "source": [
    "# solucion de Pao 🦋"
   ]
  },
  {
   "cell_type": "code",
   "execution_count": 65,
   "metadata": {},
   "outputs": [
    {
     "name": "stdout",
     "output_type": "stream",
     "text": [
      "2 * 1 = 2\n",
      "2 * 2 = 4\n",
      "2 * 3 = 6\n",
      "2 * 4 = 8\n",
      "2 * 5 = 10\n",
      "2 * 6 = 12\n",
      "2 * 7 = 14\n",
      "2 * 8 = 16\n",
      "2 * 9 = 18\n",
      "2 * 10 = 20\n"
     ]
    }
   ],
   "source": [
    "for numeros in range(1, 11):\n",
    "    resultado = numeros * 2\n",
    "    print(f'2 * {numeros} = {resultado}')"
   ]
  },
  {
   "attachments": {},
   "cell_type": "markdown",
   "metadata": {},
   "source": [
    "# Solucion de Pedro 🙏"
   ]
  },
  {
   "cell_type": "code",
   "execution_count": 66,
   "metadata": {},
   "outputs": [
    {
     "name": "stdout",
     "output_type": "stream",
     "text": [
      "El resultado de 2 * 0 es 0\n",
      "El resultado de 2 * 1 es 2\n",
      "El resultado de 2 * 2 es 4\n",
      "El resultado de 2 * 3 es 6\n",
      "El resultado de 2 * 4 es 8\n",
      "El resultado de 2 * 5 es 10\n",
      "El resultado de 2 * 6 es 12\n",
      "El resultado de 2 * 7 es 14\n",
      "El resultado de 2 * 8 es 16\n",
      "El resultado de 2 * 9 es 18\n"
     ]
    }
   ],
   "source": [
    "#Creación del iterador\n",
    "for multiplicador in range (10):\n",
    "    resultado = multiplicador * 2\n",
    "    print(f\"El resultado de 2 * {multiplicador} es {resultado}\")"
   ]
  },
  {
   "cell_type": "code",
   "execution_count": null,
   "metadata": {},
   "outputs": [],
   "source": [
    "lista_participantes=[\"Maga\",\"Juan\",\"Florencia\",\"Bienvenido\",\"Luis\"]\n",
    "#print(lista_participantes[3])\n",
    "\n",
    "for posicion in range(5):\n",
    "    print(posicion)\n",
    "    print(lista_participantes[posicion])"
   ]
  },
  {
   "cell_type": "code",
   "execution_count": 77,
   "metadata": {},
   "outputs": [
    {
     "name": "stdout",
     "output_type": "stream",
     "text": [
      "Maga\n",
      "Juan\n",
      "Florencia\n",
      "Bienvenido\n",
      "Luis\n",
      "Santi\n",
      "Sergio\n",
      "Santos\n",
      "Ceci\n"
     ]
    }
   ],
   "source": [
    "lista_participantes=[\"Maga\",\"Juan\",\"Florencia\",\"Bienvenido\",\"Luis\",\"Santi\",\"Sergio\",\"Santos\",\"Ceci\"]\n",
    "for nombre in lista_participantes:\n",
    "    print(nombre)"
   ]
  },
  {
   "attachments": {},
   "cell_type": "markdown",
   "metadata": {},
   "source": [
    "### Challenge 🤺 - 20m\n",
    "\n",
    "lista_marcas = [\"chanel\", \"nike\", \"dior\", \"adidas\",\"gotitas\",\"Luomo\"]\n",
    "Recorrer los elementos de una lista de objetos e imprimir cada marca *__solamente__* si tiene 6 letras o más.\\\n",
    "-dato: len() saca la longitud de una variable"
   ]
  },
  {
   "attachments": {},
   "cell_type": "markdown",
   "metadata": {},
   "source": [
    "# solucion de Bruno ✡️"
   ]
  },
  {
   "cell_type": "code",
   "execution_count": 78,
   "metadata": {},
   "outputs": [
    {
     "name": "stdout",
     "output_type": "stream",
     "text": [
      "Channel\n",
      "Tiene 7 letras.\n",
      "Adidas\n",
      "Tiene 6 letras.\n",
      "Gotitas\n",
      "Tiene 7 letras.\n"
     ]
    }
   ],
   "source": [
    "lista_marcas = [\"Channel\", \"Nike\", \"Dior\", \"Adidas\", \"Gotitas\",  \"Luomo\"]\n",
    "longitud_marcas = len(lista_marcas)\n",
    "for i in range(longitud_marcas):\n",
    "    if len(lista_marcas[i]) >= 6:\n",
    "        print(lista_marcas[i])\n",
    "        print(f\"Tiene {len(lista_marcas[i])} letras.\")"
   ]
  },
  {
   "attachments": {},
   "cell_type": "markdown",
   "metadata": {},
   "source": [
    "# Solucion de Nahuel 🎄"
   ]
  },
  {
   "cell_type": "code",
   "execution_count": 79,
   "metadata": {},
   "outputs": [
    {
     "name": "stdout",
     "output_type": "stream",
     "text": [
      "adidas\n",
      "gotitas\n"
     ]
    }
   ],
   "source": [
    "# Definicion de lista\n",
    "lista_marcas = [\"nike\", \"vans\", \"adidas\", \"luomo\", \"dior\", \"gotitas\"]\n",
    "\n",
    "# Definicion de ciclo for\n",
    "# iterador i (cada objeto de la lista, strings en este caso)\n",
    "for i in lista_marcas:\n",
    "    # condicion, si el largor de i es mayor o igual a 6\n",
    "    if len(i) >= 6:\n",
    "        # imprime el objeto\n",
    "        print(i)"
   ]
  },
  {
   "attachments": {},
   "cell_type": "markdown",
   "metadata": {},
   "source": [
    "# recorrer strings (cadena de caracteres)"
   ]
  },
  {
   "cell_type": "code",
   "execution_count": 82,
   "metadata": {},
   "outputs": [
    {
     "name": "stdout",
     "output_type": "stream",
     "text": [
      "a\n",
      "r\n",
      "b\n",
      "o\n",
      "l\n"
     ]
    }
   ],
   "source": [
    "for letra in \"arbol\":\n",
    "    print(letra)"
   ]
  },
  {
   "attachments": {},
   "cell_type": "markdown",
   "metadata": {},
   "source": [
    "### Challenge 🤺 - 15m\n",
    "\n",
    "Solicitar al usuario que ingrese una frase y almacenarlo en una variable.\n",
    "\n",
    "Imprimir un mensaje (p.e.: \"Encontré la 'o'\") cada vez que se encuentre una letra \"o\" en la frase ingresada."
   ]
  },
  {
   "cell_type": "code",
   "execution_count": null,
   "metadata": {},
   "outputs": [],
   "source": []
  }
 ],
 "metadata": {
  "kernelspec": {
   "display_name": "Python 3",
   "language": "python",
   "name": "python3"
  },
  "language_info": {
   "codemirror_mode": {
    "name": "ipython",
    "version": 3
   },
   "file_extension": ".py",
   "mimetype": "text/x-python",
   "name": "python",
   "nbconvert_exporter": "python",
   "pygments_lexer": "ipython3",
   "version": "3.10.6"
  },
  "orig_nbformat": 4,
  "vscode": {
   "interpreter": {
    "hash": "916dbcbb3f70747c44a77c7bcd40155683ae19c65e1c03b4aa3499c5328201f1"
   }
  }
 },
 "nbformat": 4,
 "nbformat_minor": 2
}
